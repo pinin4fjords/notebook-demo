{
 "cells": [
  {
   "cell_type": "markdown",
   "id": "e75c0da6-df77-4450-a90f-06c4b377d83c",
   "metadata": {},
   "source": [
    "# Proposal: Applied Seqera Academy Proposal"
   ]
  },
  {
   "cell_type": "markdown",
   "id": "e90533ac-b448-4cbd-9f7c-a973e94a710a",
   "metadata": {},
   "source": [
    "Seqera is a company that operates predominantly in the Bioscience space. In our 'Academy' onboarding process, we'd like to provide you with an intuition of the basic problems our customers are trying to solve, and empathy with their motivations for doing so. We'd like to do so in a way that can be appreciated by new Seqerans of diverse background, whatever team you're coming into, from People to Engineering."
   ]
  },
  {
   "cell_type": "markdown",
   "id": "f7c1ed10-f3e5-4650-9dd7-1d56db108cea",
   "metadata": {},
   "source": [
    "## Introduction to Notebooks"
   ]
  },
  {
   "cell_type": "markdown",
   "id": "4d1e2872-e5f5-461b-824c-652cf8898ddd",
   "metadata": {},
   "source": [
    "For those without any technical programming background, it's worth giving a simple outline of the concept of notebooks in a programming context. If you're already familiar please feel free to skip this section. \n",
    "\n",
    "What you're looking at right now is a 'Jupyter Notebook'. Jupyter Notebooks are an innovative digital tool designed to make computing and data analysis accessible and interactive for both technical and non-technical users. Picture a digital notebook that allows you to write text, like explanations or instructions, and also execute code, all in one place. This is made possible through \"cells,\" which are like individual blocks within the notebook. Some cells contain code, which can be run to perform computations or manipulate data, while others contain text, which can explain what the code does or present results. \n",
    "\n",
    "This structure makes Jupyter Notebooks an excellent teaching aid, as it allows educators to seamlessly integrate lessons and practical exercises. Students can easily run complex commands without needing to navigate the often intimidating environment of the terminal. By simplifying the execution of technical tasks, Jupyter Notebooks democratize access to computing and data analysis, enabling a broader audience to engage with and learn from technology."
   ]
  },
  {
   "cell_type": "markdown",
   "id": "137e46fa-04fd-440d-b29f-df0c371df926",
   "metadata": {},
   "source": [
    "### Markdown cells"
   ]
  },
  {
   "cell_type": "markdown",
   "id": "c61916e7-a9a4-446b-9151-f0f0dad02552",
   "metadata": {},
   "source": [
    "This is a markdown cell (as are all the cells above). Click into this cell and either click the little 'play' button in the toolbar or do cntrl-enter (or cmd-enter on a Mac). Nothing will happen really- you'll just get a rendered version of the text.\n",
    "\n",
    "Bellow is a cell for running commands (the '!' means execute a terminal command). Run that cell and see what happens. "
   ]
  },
  {
   "cell_type": "code",
   "execution_count": 7,
   "id": "15f721a9-eea6-4d0d-9644-fa40498d4ccd",
   "metadata": {},
   "outputs": [
    {
     "name": "stdout",
     "output_type": "stream",
     "text": [
      "Untitled.ipynb\t dev\t lib\t media\troot  sys  what_is_notebook.ipynb\n",
      "Untitled1.ipynb  etc\t lib32\t mnt\trun   tmp\n",
      "bin\t\t fusion  lib64\t opt\tsbin  usr\n",
      "boot\t\t home\t libx32  proc\tsrv   var\n"
     ]
    }
   ],
   "source": [
    "!ls"
   ]
  },
  {
   "cell_type": "markdown",
   "id": "d7be5136-cd10-41ee-a19e-5e47a447ac3c",
   "metadata": {},
   "source": [
    "You should see the listing of the current directory in the Linux file system, produced by the Bash 'ls' command. Without the '!' we just run a Python command - try running the cell below."
   ]
  },
  {
   "cell_type": "code",
   "execution_count": 9,
   "id": "f00c97cf-3c0c-4742-9d29-32327bb4db6c",
   "metadata": {},
   "outputs": [
    {
     "name": "stdout",
     "output_type": "stream",
     "text": [
      "Hello world\n"
     ]
    }
   ],
   "source": [
    "print('Hello world')"
   ]
  },
  {
   "cell_type": "markdown",
   "id": "4001f96c-fac3-43a5-853a-d5e5bfe9e4cf",
   "metadata": {},
   "source": [
    "This runs the Python 'print' command with the specified text string.\n",
    "\n",
    "We're going to use these constructs throughout the applied Academy training. You can edit the commands to try out different things, and sometimes we'll ask you too, but at the basic level all you'll need to do is run each cell and examine the outputs."
   ]
  },
  {
   "cell_type": "code",
   "execution_count": 14,
   "id": "2923058c-cb01-482a-8f93-8176638ec916",
   "metadata": {},
   "outputs": [
    {
     "name": "stdout",
     "output_type": "stream",
     "text": [
      "--2024-03-21 16:58:49--  ftp://ftp.sra.ebi.ac.uk/vol1/fastq/SRR131/002/SRR13191702/SRR13191702_1.fastq.gz\n",
      "           => ‘SRR13191702_1.fastq.gz’\n",
      "Resolving ftp.sra.ebi.ac.uk (ftp.sra.ebi.ac.uk)... 193.62.193.165\n",
      "Connecting to ftp.sra.ebi.ac.uk (ftp.sra.ebi.ac.uk)|193.62.193.165|:21... connected.\n",
      "Logging in as anonymous ... Logged in!\n",
      "==> SYST ... done.    ==> PWD ... done.\n",
      "==> TYPE I ... done.  ==> CWD (1) /vol1/fastq/SRR131/002/SRR13191702 ... done.\n",
      "==> SIZE SRR13191702_1.fastq.gz ... 15420\n",
      "==> PASV ... done.    ==> RETR SRR13191702_1.fastq.gz ... done.\n",
      "Length: 15420 (15K) (unauthoritative)\n",
      "\n",
      "SRR13191702_1.fastq 100%[===================>]  15.06K  --.-KB/s    in 0.03s   \n",
      "\n",
      "2024-03-21 16:58:49 (439 KB/s) - ‘SRR13191702_1.fastq.gz’ saved [15420]\n",
      "\n"
     ]
    }
   ],
   "source": [
    "!wget ftp://ftp.sra.ebi.ac.uk/vol1/fastq/SRR131/002/SRR13191702/SRR13191702_1.fastq.gz"
   ]
  },
  {
   "cell_type": "code",
   "execution_count": 15,
   "id": "5ac91914-31a9-4d7f-bb82-51db59740a5a",
   "metadata": {},
   "outputs": [
    {
     "name": "stdout",
     "output_type": "stream",
     "text": [
      "@SRR13191702.1 1/1\n",
      "GATGAACGCTAGCTACAGGCTTAACACATGCAAGTCGAGGGGCAGCATGGTCTTAGCTTGCTAAGACTGATGGCGACCGGCGCACGGGTGAGTAACACGTATCCAACCTGCCGTCTACTCTTGGACAGCCTTCTGAAAGGAAGATTAATACAAGATGGCATCATGAGTCCGCATGTTCACATGATTAAAGGTATTCCGGTAGACGATGGGGATGCGTTCCATTAGATAGTAGGCGGGGTAACGGCCCACCT\n",
      "+\n",
      "DDDDDIIIIIIIIIIIIIIIIIIIIIIIIIIIIIHHIIIIIIIIIIIIIIIIIIIIIIIIIIIIIEI@FHIIIIIIIIIIIIIIIIIIIIIIIIIIIHIIIGHIIIIIIIIIIIIIIIIIIIIIIIIIIIIIIIIIIIIIIIIIIIIIIIIIHIIIIIIIIIIIIIIIHIHIIIIIIIIIIIHIIIGIIIHIIIIIHIIIIIIIIDFHHIIIGIGHHHIHIIHIIIE@GHEF@E,7>DDHHHIHHIIIIIE\n",
      "@SRR13191702.2 2/1\n",
      "GATGAACGCTGGCGGCGTGCTTAACACATGCAAGTCGAACGAAGCGCTTAAACGGATTTCTTCGGATTGAAGTTTTTGCGACTGAGTGGCGGACGGGTGAGTAACGCGTGGGTAACCTGCCTCGTACAGGGGGATAACAGTTAGAAATGACTGCTAATACCGCATAAGCGCACAGTGCTGCATGGCACAGTGTGAAAAACTCCGGTGGTATGAGATGGACCCGCGTCTGATTAGCTAGTTGGTGGGGTAAC\n",
      "+\n",
      "DDDDDIIHIIHIIIHIIIIIIIIIIIIIIIIIIIHHIIIHIIGHIIHIIIIGFHHCDGHIIIIGHHHIIIHIHHIHHIIHHHDH<GHIEHIHC<ECDHHIH<FHHHHHIIIHDHHHEHHIHHHHDEEDGH@/?EHHI@DD<DGEHHIHHII=DAHHGIIG@AHHGH/GHHCDC-GHCAHHHEGHHHHIIHBFH@EEHHGIFAFHHIIHIH@GHI?GC?HHH=><DHIIIEHEEGB7GH-6@H@GHDD<---\n",
      "@SRR13191702.3 3/1\n",
      "GACGAACGCTGGCGGCGTGCTTAACACATGCAAGTCGAACGAAGAGCGATGGAAGCTTGCTTCTATCAATCTTAGTGGCGAACGGGTGAGTAACGCGTAATCAACCTGCCCTTCAGAGGGGGACAACAGTTGGAAACGACTGCTAATACCGCATACGATCTAATCTCGGCATCGAGGATAGATGAAAGGTGGCCTCTACATGTAAGCTATCACTGAAGGAGGGGATTGCGTCTGATTGGCAAGTTGGAGGG\n"
     ]
    }
   ],
   "source": [
    "!zcat SRR13191702_1.fastq.gz | head"
   ]
  },
  {
   "cell_type": "code",
   "execution_count": null,
   "id": "279eb672-4b11-41b8-b4e3-1dbfc5fd85f0",
   "metadata": {},
   "outputs": [],
   "source": []
  }
 ],
 "metadata": {
  "kernelspec": {
   "display_name": "Python 3 (ipykernel)",
   "language": "python",
   "name": "python3"
  },
  "language_info": {
   "codemirror_mode": {
    "name": "ipython",
    "version": 3
   },
   "file_extension": ".py",
   "mimetype": "text/x-python",
   "name": "python",
   "nbconvert_exporter": "python",
   "pygments_lexer": "ipython3",
   "version": "3.12.1"
  }
 },
 "nbformat": 4,
 "nbformat_minor": 5
}
