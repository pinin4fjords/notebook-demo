{
 "cells": [
  {
   "cell_type": "markdown",
   "id": "e75c0da6-df77-4450-a90f-06c4b377d83c",
   "metadata": {},
   "source": [
    "# Proposal: Applied Seqera Academy Proposal"
   ]
  },
  {
   "cell_type": "markdown",
   "id": "e90533ac-b448-4cbd-9f7c-a973e94a710a",
   "metadata": {},
   "source": [
    "Seqera is a company that operates predominantly in the Bioscience space. In our 'Academy' onboarding process, we'd like to provide you with an intuition of the basic problems our customers are trying to solve, and empathy with their motivations for doing so. We'd like to do so in a way that can be appreciated by new Seqerans of diverse background, whatever team you're coming into, from People to Engineering."
   ]
  },
  {
   "cell_type": "markdown",
   "id": "f7c1ed10-f3e5-4650-9dd7-1d56db108cea",
   "metadata": {},
   "source": [
    "## Introduction to Notebooks"
   ]
  },
  {
   "cell_type": "markdown",
   "id": "4d1e2872-e5f5-461b-824c-652cf8898ddd",
   "metadata": {},
   "source": [
    "For those without any technical programming background, it's worth giving a simple outline of the concept of notebooks in a programming context. If you're already familiar please feel free to skip this section. \n",
    "\n",
    "What you're looking at right now is a 'Jupyter Notebook'. Jupyter Notebooks are an innovative digital tool designed to make computing and data analysis accessible and interactive for both technical and non-technical users. Picture a digital notebook that allows you to write text, like explanations or instructions, and also execute code, all in one place. This is made possible through \"cells,\" which are like individual blocks within the notebook. Some cells contain code, which can be run to perform computations or manipulate data, while others contain text, which can explain what the code does or present results. \n",
    "\n",
    "This structure makes Jupyter Notebooks an excellent teaching aid, as it allows educators to seamlessly integrate lessons and practical exercises. Students can easily run complex commands without needing to navigate the often intimidating environment of the terminal. By simplifying the execution of technical tasks, Jupyter Notebooks democratize access to computing and data analysis, enabling a broader audience to engage with and learn from technology."
   ]
  },
  {
   "cell_type": "markdown",
   "id": "137e46fa-04fd-440d-b29f-df0c371df926",
   "metadata": {},
   "source": [
    "### Markdown cells"
   ]
  },
  {
   "cell_type": "markdown",
   "id": "c61916e7-a9a4-446b-9151-f0f0dad02552",
   "metadata": {},
   "source": [
    "This is a markdown cell (as are all the cells above). Click into this cell and either click the little 'play' button in the toolbar or do cntrl-enter (or cmd-enter on a Mac). Nothing will happen really- you'll just get a rendered version of the text."
   ]
  },
  {
   "cell_type": "markdown",
   "id": "ba5e2f2a-7ac1-40c3-bf9d-1b78887a5351",
   "metadata": {},
   "source": [
    "### Cells for running things on the command line\n",
    "\n",
    "Bellow is a cell for running commands (the '!' means execute a terminal command). Run that cell in the same way and see what happens. "
   ]
  },
  {
   "cell_type": "code",
   "execution_count": null,
   "id": "15f721a9-eea6-4d0d-9644-fa40498d4ccd",
   "metadata": {},
   "outputs": [],
   "source": [
    "!ls"
   ]
  },
  {
   "cell_type": "markdown",
   "id": "d7be5136-cd10-41ee-a19e-5e47a447ac3c",
   "metadata": {},
   "source": [
    "You should see the listing of the current directory in the Linux file system, produced by the Bash 'ls' command. Without the '!' we just run a Python command - try running the cell below."
   ]
  },
  {
   "cell_type": "markdown",
   "id": "ecdd4dc1-2723-4988-975d-797d7ef3756c",
   "metadata": {},
   "source": [
    "### Cells for running Python"
   ]
  },
  {
   "cell_type": "code",
   "execution_count": null,
   "id": "f00c97cf-3c0c-4742-9d29-32327bb4db6c",
   "metadata": {},
   "outputs": [],
   "source": [
    "print('Hello world')"
   ]
  },
  {
   "cell_type": "markdown",
   "id": "4001f96c-fac3-43a5-853a-d5e5bfe9e4cf",
   "metadata": {},
   "source": [
    "This runs the Python 'print' command with the specified text string.\n",
    "\n",
    "We're going to use these constructs throughout the applied Academy training. You can edit the commands to try out different things, and sometimes we'll ask you too, but at the basic level all you'll need to do is run each cell and examine the outputs."
   ]
  },
  {
   "cell_type": "markdown",
   "id": "626a03d3-de1d-40f7-a52a-e8861fb26b9c",
   "metadata": {},
   "source": [
    "## Introduction to Genomics Data "
   ]
  },
  {
   "cell_type": "markdown",
   "id": "ff95cad0-2a11-46a9-b9f1-a8b10e6f0b71",
   "metadata": {},
   "source": [
    "In this next section we'll introduce you to some crucial genomics data analysis concepts. Don't worry if this sounds daunting, everything will be done with pre-made commands as described above. \n",
    "\n",
    "If you don't come from a genomics/ bioinformatics background, the first thing to do is go to https://learngenomics.dev/ and learn about the basic concepts. Then come back here and we'll learn something about the actual data."
   ]
  },
  {
   "cell_type": "markdown",
   "id": "c40c68eb-34b1-4148-8795-ac5c37eacf37",
   "metadata": {},
   "source": [
    "### FASTQ files"
   ]
  },
  {
   "cell_type": "markdown",
   "id": "b18e69b8-6f44-483f-badb-6d5dbdb1099e",
   "metadata": {},
   "source": [
    "The workhorse file format for genomics data is the FASTQ file. The best way to illustrate this is to download one and have a look at it, so let's do that. Activate the cell below to get a compressed FASTQ file from the SRA (sequence read archive)."
   ]
  },
  {
   "cell_type": "code",
   "execution_count": null,
   "id": "2923058c-cb01-482a-8f93-8176638ec916",
   "metadata": {},
   "outputs": [],
   "source": [
    "!wget ftp://ftp.sra.ebi.ac.uk/vol1/fastq/SRR131/002/SRR13191702/SRR13191702_1.fastq.gz"
   ]
  },
  {
   "cell_type": "markdown",
   "id": "a2aa3937-34b4-403a-919d-f68bb84d33d2",
   "metadata": {},
   "source": [
    "`wget` is just a command that 'gets' files from the internet. FASTQ files are often BIG, so often stored compressed. Just for our purposes here, let's unzip this one:"
   ]
  },
  {
   "cell_type": "code",
   "execution_count": 13,
   "id": "18bb731e-852f-4d9b-8f46-1101cc21f24b",
   "metadata": {},
   "outputs": [],
   "source": [
    "!gunzip SRR13191702_1.fastq.gz"
   ]
  },
  {
   "cell_type": "markdown",
   "id": "e0602b48-6a21-4643-9252-f2b5d8f775e2",
   "metadata": {},
   "source": [
    "Each record in a FASTQ file is 4 lines. Activate the following cell to see what the first 4 lines looks like. "
   ]
  },
  {
   "cell_type": "code",
   "execution_count": null,
   "id": "a7bf385d-d0dd-4825-984b-54646bbdd7d6",
   "metadata": {},
   "outputs": [],
   "source": [
    "!head -n 4 SRR13191702_1.fastq"
   ]
  },
  {
   "cell_type": "markdown",
   "id": "6a7619f9-07bd-4ae5-bd02-f14cab71fa51",
   "metadata": {},
   "source": [
    "In the output you should see:\n",
    "\n",
    " * An identifier (SRR13191702.1 1/1)\n",
    " * A sequence (GATGAACGCT...)\n",
    " * A separator (+)\n",
    " * Encoded 'scores' representing 'quality' (DDDDDIIIII...)\n",
    "\n",
    "Don't worry too much about that last one. Suffice to say those are not really letters, they are numeric values 'encoded' using those charcacters. That quality can be taken into account by the software used to work with these data.\n",
    "\n",
    "We can use another command (`sed`) to have a look at the next 4 lines:"
   ]
  },
  {
   "cell_type": "code",
   "execution_count": null,
   "id": "5ac91914-31a9-4d7f-bb82-51db59740a5a",
   "metadata": {},
   "outputs": [],
   "source": [
    "!sed -n '5,8p' SRR13191702_1.fastq"
   ]
  },
  {
   "cell_type": "markdown",
   "id": "390f4f7c-54fa-4925-8c31-75b06653cf2c",
   "metadata": {},
   "source": [
    "You will see the same pattern, as described above, of four lines, for a new record.\n",
    "\n",
    "**Question:** What is the identifier of the third record? Use the same sort command as above to get the next record (lines 9-12). Paste it into the box below and run it."
   ]
  },
  {
   "cell_type": "code",
   "execution_count": null,
   "id": "279eb672-4b11-41b8-b4e3-1dbfc5fd85f0",
   "metadata": {},
   "outputs": [],
   "source": []
  }
 ],
 "metadata": {
  "kernelspec": {
   "display_name": "Python 3 (ipykernel)",
   "language": "python",
   "name": "python3"
  },
  "language_info": {
   "codemirror_mode": {
    "name": "ipython",
    "version": 3
   },
   "file_extension": ".py",
   "mimetype": "text/x-python",
   "name": "python",
   "nbconvert_exporter": "python",
   "pygments_lexer": "ipython3",
   "version": "3.12.1"
  }
 },
 "nbformat": 4,
 "nbformat_minor": 5
}
